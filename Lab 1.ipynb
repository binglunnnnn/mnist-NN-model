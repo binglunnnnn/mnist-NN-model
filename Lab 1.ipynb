{
 "cells": [
  {
   "cell_type": "markdown",
   "metadata": {},
   "source": [
    "# Lab 1 Binglun Hou 12/20/20"
   ]
  },
  {
   "cell_type": "code",
   "execution_count": 2,
   "metadata": {},
   "outputs": [
    {
     "name": "stdout",
     "output_type": "stream",
     "text": [
      "tf.Tensor(b'Hello, TensorFlow!', shape=(), dtype=string)\n"
     ]
    }
   ],
   "source": [
    "import tensorflow as tf \n",
    "hello = tf.constant('Hello, TensorFlow!') \n",
    "print(hello)"
   ]
  },
  {
   "cell_type": "code",
   "execution_count": 3,
   "metadata": {},
   "outputs": [],
   "source": [
    "## This command defines a string in tensorflow and outputs the string.\n"
   ]
  },
  {
   "cell_type": "code",
   "execution_count": 4,
   "metadata": {},
   "outputs": [],
   "source": [
    "mnist = tf.keras.datasets.mnist"
   ]
  },
  {
   "cell_type": "markdown",
   "metadata": {},
   "source": [
    "## Q1 show the figures"
   ]
  },
  {
   "cell_type": "code",
   "execution_count": 6,
   "metadata": {},
   "outputs": [
    {
     "data": {
      "image/png": "[encoded data removed]",
      "text/plain": [
       "<Figure size 432x288 with 6 Axes>"
      ]
     },
     "metadata": {
      "needs_background": "light"
     },
     "output_type": "display_data"
    }
   ],
   "source": [
    "import matplotlib.pyplot as plt\n",
    "# load (downloaded if needed) the MNIST dataset\n",
    "(X_train, y_train), (X_test, y_test) = mnist.load_data()\n",
    "# plot 4 images as gray scale\n",
    "plt.subplot(231)\n",
    "plt.imshow(X_train[0], cmap=plt.get_cmap('gray'))\n",
    "plt.subplot(232)\n",
    "plt.imshow(X_train[1], cmap=plt.get_cmap('gray'))\n",
    "plt.subplot(233)\n",
    "plt.imshow(X_train[2], cmap=plt.get_cmap('gray'))\n",
    "plt.subplot(234)\n",
    "plt.imshow(X_train[3], cmap=plt.get_cmap('gray'))\n",
    "plt.subplot(235)\n",
    "plt.imshow(X_train[4], cmap=plt.get_cmap('gray'))\n",
    "plt.subplot(236)\n",
    "plt.imshow(X_train[5], cmap=plt.get_cmap('gray'))\n",
    "# show the plot\n",
    "plt.show()"
   ]
  },
  {
   "cell_type": "markdown",
   "metadata": {},
   "source": [
    "## Q2 Normalize"
   ]
  },
  {
   "cell_type": "code",
   "execution_count": 7,
   "metadata": {},
   "outputs": [],
   "source": [
    "# flatten 28*28 images to a 784 vector for each image\n",
    "#num_pixels = X_train.shape[1] * X_train.shape[2]\n",
    "#X_train = X_train.reshape(X_train.shape[0], num_pixels)\n",
    "#X_test = X_test.reshape(X_test.shape[0], num_pixels)\n",
    "# normalize inputs from 0-255 to 0-1\n",
    "X_train = X_train / 255\n",
    "X_test = X_test / 255\n",
    "#from keras.utils import np_utils\n",
    "# one hot encode outputs\n",
    "#Y_test = y_test\n",
    "#y_train = np_utils.to_categorical(y_train)\n",
    "#y_test = np_utils.to_categorical(y_test)\n",
    "#num_classes = y_test.shape[1]\n"
   ]
  },
  {
   "cell_type": "code",
   "execution_count": 8,
   "metadata": {},
   "outputs": [],
   "source": [
    "model = tf.keras.models.Sequential([ \n",
    "    tf.keras.layers.Flatten(input_shape=(28, 28)), \n",
    "    tf.keras.layers.Dense(128, activation='sigmoid'), \n",
    "    tf.keras.layers.Dense(10) ])"
   ]
  },
  {
   "cell_type": "code",
   "execution_count": 9,
   "metadata": {},
   "outputs": [
    {
     "name": "stdout",
     "output_type": "stream",
     "text": [
      "WARNING:tensorflow:Layer flatten is casting an input tensor from dtype float64 to the layer's dtype of float32, which is new behavior in TensorFlow 2.  The layer has dtype float32 because it's dtype defaults to floatx.\n",
      "\n",
      "If you intended to run this layer in float32, you can safely ignore this warning. If in doubt, this warning is likely only an issue if you are porting a TensorFlow 1.X model to TensorFlow 2.\n",
      "\n",
      "To change all layers to have dtype float64 by default, call `tf.keras.backend.set_floatx('float64')`. To change just this layer, pass dtype='float64' to the layer constructor. If you are the author of this layer, you can disable autocasting by passing autocast=False to the base Layer constructor.\n",
      "\n"
     ]
    },
    {
     "data": {
      "text/plain": [
       "array([[-1.0606815 ,  0.19600318,  0.27072394,  0.0830484 ,  0.15905668,\n",
       "        -0.57807684, -1.2795693 ,  0.01213743, -0.37073794,  0.16364352]],\n",
       "      dtype=float32)"
      ]
     },
     "execution_count": 9,
     "metadata": {},
     "output_type": "execute_result"
    }
   ],
   "source": [
    "predictions= model(X_train[:1]).numpy() \n",
    "predictions"
   ]
  },
  {
   "cell_type": "code",
   "execution_count": 10,
   "metadata": {},
   "outputs": [
    {
     "data": {
      "text/plain": [
       "array([[0.25717926, 0.5488445 , 0.56727064, 0.52075016, 0.53968054,\n",
       "        0.35937524, 0.21762356, 0.5030343 , 0.40836272, 0.5408198 ]],\n",
       "      dtype=float32)"
      ]
     },
     "execution_count": 10,
     "metadata": {},
     "output_type": "execute_result"
    }
   ],
   "source": [
    "tf.nn.sigmoid(predictions).numpy()"
   ]
  },
  {
   "cell_type": "code",
   "execution_count": 11,
   "metadata": {},
   "outputs": [],
   "source": [
    "loss_fn = tf.keras.losses.SparseCategoricalCrossentropy(from_logits=True)"
   ]
  },
  {
   "cell_type": "code",
   "execution_count": 12,
   "metadata": {},
   "outputs": [
    {
     "data": {
      "text/plain": [
       "2.7587233"
      ]
     },
     "execution_count": 12,
     "metadata": {},
     "output_type": "execute_result"
    }
   ],
   "source": [
    "loss_fn(y_train[:1],predictions).numpy()"
   ]
  },
  {
   "cell_type": "code",
   "execution_count": 13,
   "metadata": {},
   "outputs": [
    {
     "name": "stdout",
     "output_type": "stream",
     "text": [
      "Train on 60000 samples\n",
      "Epoch 1/5\n",
      "60000/60000 [==============================] - 11s 177us/sample - loss: 1.4418 - accuracy: 0.6886\n",
      "Epoch 2/5\n",
      "60000/60000 [==============================] - 10s 160us/sample - loss: 0.7049 - accuracy: 0.8493\n",
      "Epoch 3/5\n",
      "60000/60000 [==============================] - 9s 156us/sample - loss: 0.5233 - accuracy: 0.8730\n",
      "Epoch 4/5\n",
      "60000/60000 [==============================] - 9s 154us/sample - loss: 0.4478 - accuracy: 0.8853 - loss:\n",
      "Epoch 5/5\n",
      "60000/60000 [==============================] - 9s 155us/sample - loss: 0.4062 - accuracy: 0.8919\n"
     ]
    },
    {
     "data": {
      "text/plain": [
       "<tensorflow.python.keras.callbacks.History at 0x666eab6d8>"
      ]
     },
     "execution_count": 13,
     "metadata": {},
     "output_type": "execute_result"
    }
   ],
   "source": [
    "model.compile(optimizer='SGD', loss=loss_fn, metrics=['accuracy']) \n",
    "model.fit(X_train, y_train, epochs=5)"
   ]
  },
  {
   "cell_type": "markdown",
   "metadata": {},
   "source": [
    "## Q3 Add another layer with 128 nodes, epochs = 10"
   ]
  },
  {
   "cell_type": "code",
   "execution_count": 14,
   "metadata": {},
   "outputs": [
    {
     "name": "stdout",
     "output_type": "stream",
     "text": [
      "Train on 60000 samples\n",
      "Epoch 1/10\n",
      "60000/60000 [==============================] - 12s 196us/sample - loss: 2.2091 - accuracy: 0.3248\n",
      "Epoch 2/10\n",
      "60000/60000 [==============================] - 11s 182us/sample - loss: 1.7291 - accuracy: 0.6153\n",
      "Epoch 3/10\n",
      "60000/60000 [==============================] - 11s 181us/sample - loss: 1.0710 - accuracy: 0.7532\n",
      "Epoch 4/10\n",
      "60000/60000 [==============================] - 11s 180us/sample - loss: 0.7503 - accuracy: 0.8183\n",
      "Epoch 5/10\n",
      "60000/60000 [==============================] - 11s 176us/sample - loss: 0.5951 - accuracy: 0.8495\n",
      "Epoch 6/10\n",
      "60000/60000 [==============================] - 11s 185us/sample - loss: 0.5093 - accuracy: 0.8659\n",
      "Epoch 7/10\n",
      "60000/60000 [==============================] - 10s 175us/sample - loss: 0.4563 - accuracy: 0.8776\n",
      "Epoch 8/10\n",
      "60000/60000 [==============================] - 11s 184us/sample - loss: 0.4205 - accuracy: 0.8856\n",
      "Epoch 9/10\n",
      "60000/60000 [==============================] - 11s 183us/sample - loss: 0.3947 - accuracy: 0.8914\n",
      "Epoch 10/10\n",
      "60000/60000 [==============================] - 11s 180us/sample - loss: 0.3752 - accuracy: 0.8956\n"
     ]
    },
    {
     "data": {
      "text/plain": [
       "<tensorflow.python.keras.callbacks.History at 0x669571a58>"
      ]
     },
     "execution_count": 14,
     "metadata": {},
     "output_type": "execute_result"
    }
   ],
   "source": [
    "model = tf.keras.models.Sequential([ \n",
    "    tf.keras.layers.Flatten(input_shape=(28, 28)), \n",
    "    tf.keras.layers.Dense(128, activation='sigmoid'),\n",
    "    tf.keras.layers.Dense(128, activation='sigmoid'),\n",
    "    tf.keras.layers.Dense(10) ])\n",
    "\n",
    "model.compile(optimizer='SGD', loss=loss_fn, metrics=['accuracy']) \n",
    "model.fit(X_train, y_train, epochs=10)\n"
   ]
  },
  {
   "cell_type": "code",
   "execution_count": 15,
   "metadata": {},
   "outputs": [
    {
     "name": "stdout",
     "output_type": "stream",
     "text": [
      "Train on 48000 samples, validate on 12000 samples\n",
      "Epoch 1/10\n",
      "48000/48000 [==============================] - 11s 224us/sample - loss: 0.3660 - accuracy: 0.8970 - val_loss: 0.3365 - val_accuracy: 0.9049\n",
      "Epoch 2/10\n",
      "48000/48000 [==============================] - 10s 215us/sample - loss: 0.3551 - accuracy: 0.9007 - val_loss: 0.3281 - val_accuracy: 0.9057\n",
      "Epoch 3/10\n",
      "48000/48000 [==============================] - 10s 212us/sample - loss: 0.3455 - accuracy: 0.9020 - val_loss: 0.3199 - val_accuracy: 0.9094\n",
      "Epoch 4/10\n",
      "48000/48000 [==============================] - 10s 210us/sample - loss: 0.3373 - accuracy: 0.9049 - val_loss: 0.3127 - val_accuracy: 0.9096\n",
      "Epoch 5/10\n",
      "48000/48000 [==============================] - 10s 215us/sample - loss: 0.3297 - accuracy: 0.9070 - val_loss: 0.3063 - val_accuracy: 0.9123\n",
      "Epoch 6/10\n",
      "48000/48000 [==============================] - 10s 217us/sample - loss: 0.3229 - accuracy: 0.9085 - val_loss: 0.3008 - val_accuracy: 0.9138\n",
      "Epoch 7/10\n",
      "48000/48000 [==============================] - 11s 221us/sample - loss: 0.3167 - accuracy: 0.9098 - val_loss: 0.2952 - val_accuracy: 0.9156\n",
      "Epoch 8/10\n",
      "48000/48000 [==============================] - 10s 215us/sample - loss: 0.3108 - accuracy: 0.9111 - val_loss: 0.2906 - val_accuracy: 0.9162\n",
      "Epoch 9/10\n",
      "48000/48000 [==============================] - 11s 222us/sample - loss: 0.3053 - accuracy: 0.9124 - val_loss: 0.2861 - val_accuracy: 0.9183\n",
      "Epoch 10/10\n",
      "48000/48000 [==============================] - 10s 213us/sample - loss: 0.3003 - accuracy: 0.9140 - val_loss: 0.2811 - val_accuracy: 0.9200\n"
     ]
    }
   ],
   "source": [
    "hist = model.fit(X_train, y_train, validation_split=0.2, epochs=10)"
   ]
  },
  {
   "cell_type": "code",
   "execution_count": 16,
   "metadata": {},
   "outputs": [
    {
     "data": {
      "image/png": "[encoded data removed]",
      "text/plain": [
       "<Figure size 432x288 with 2 Axes>"
      ]
     },
     "metadata": {
      "needs_background": "light"
     },
     "output_type": "display_data"
    }
   ],
   "source": [
    "plt.subplot(2,1,1) \n",
    "plt.plot(hist.history['accuracy']) \n",
    "plt.plot(hist.history['val_accuracy']) \n",
    "plt.title('model accuracy') \n",
    "plt.ylabel('accuracy') \n",
    "plt.xlabel('epoch') \n",
    "plt.legend(['train', 'test'], loc='lower right') \n",
    "plt.subplot(2,1,2) \n",
    "plt.plot(hist.history['loss']) \n",
    "plt.plot(hist.history['val_loss']) \n",
    "plt.title('model loss') \n",
    "plt.ylabel('loss') \n",
    "plt.xlabel('epoch') \n",
    "plt.legend(['train', 'test'], loc='upper right') \n",
    "plt.show()"
   ]
  },
  {
   "cell_type": "code",
   "execution_count": 17,
   "metadata": {},
   "outputs": [],
   "source": [
    "model = tf.keras.models.Sequential([ tf.keras.layers.Flatten(input_shape=(28, 28)), \n",
    "                                    tf.keras.layers.Dense(128, activation='sigmoid'), \n",
    "                                    tf.keras.layers.Dense(128, activation='sigmoid'), \n",
    "                                    tf.keras.layers.Dropout(0.2), \n",
    "                                    tf.keras.layers.Dense(10)])"
   ]
  },
  {
   "cell_type": "markdown",
   "metadata": {},
   "source": [
    "## Q4 train model again with adding SGD and batch = 200"
   ]
  },
  {
   "cell_type": "code",
   "execution_count": 18,
   "metadata": {},
   "outputs": [
    {
     "name": "stdout",
     "output_type": "stream",
     "text": [
      "Train on 48000 samples, validate on 12000 samples\n",
      "Epoch 1/10\n",
      "48000/48000 [==============================] - 5s 103us/sample - loss: 2.3530 - accuracy: 0.1086 - val_loss: 2.2802 - val_accuracy: 0.1123\n",
      "Epoch 2/10\n",
      "48000/48000 [==============================] - 4s 78us/sample - loss: 2.3198 - accuracy: 0.1198 - val_loss: 2.2594 - val_accuracy: 0.1845\n",
      "Epoch 3/10\n",
      "48000/48000 [==============================] - 4s 88us/sample - loss: 2.2985 - accuracy: 0.1349 - val_loss: 2.2377 - val_accuracy: 0.2878\n",
      "Epoch 4/10\n",
      "48000/48000 [==============================] - 4s 82us/sample - loss: 2.2745 - accuracy: 0.1519 - val_loss: 2.2139 - val_accuracy: 0.2688\n",
      "Epoch 5/10\n",
      "48000/48000 [==============================] - 4s 92us/sample - loss: 2.2484 - accuracy: 0.1712 - val_loss: 2.1864 - val_accuracy: 0.5368\n",
      "Epoch 6/10\n",
      "48000/48000 [==============================] - 4s 89us/sample - loss: 2.2159 - accuracy: 0.1961 - val_loss: 2.1543 - val_accuracy: 0.5663\n",
      "Epoch 7/10\n",
      "48000/48000 [==============================] - 4s 83us/sample - loss: 2.1811 - accuracy: 0.2304 - val_loss: 2.1166 - val_accuracy: 0.5322\n",
      "Epoch 8/10\n",
      "48000/48000 [==============================] - 4s 79us/sample - loss: 2.1402 - accuracy: 0.2621 - val_loss: 2.0716 - val_accuracy: 0.6244\n",
      "Epoch 9/10\n",
      "48000/48000 [==============================] - 4s 87us/sample - loss: 2.0924 - accuracy: 0.2989 - val_loss: 2.0162 - val_accuracy: 0.6165\n",
      "Epoch 10/10\n",
      "48000/48000 [==============================] - 4s 84us/sample - loss: 2.0348 - accuracy: 0.3428 - val_loss: 1.9494 - val_accuracy: 0.6434\n"
     ]
    },
    {
     "data": {
      "text/plain": [
       "<tensorflow.python.keras.callbacks.History at 0x645aa3630>"
      ]
     },
     "execution_count": 18,
     "metadata": {},
     "output_type": "execute_result"
    }
   ],
   "source": [
    "model.compile(optimizer='SGD', loss=loss_fn, metrics=['accuracy']) \n",
    "model.fit(X_train, y_train, validation_split=0.2, epochs=10, batch_size = 200)"
   ]
  },
  {
   "cell_type": "code",
   "execution_count": 19,
   "metadata": {},
   "outputs": [],
   "source": [
    "##  I expect speed since model is being trained simultaneously on mini batches. Accuracy decreased."
   ]
  },
  {
   "cell_type": "code",
   "execution_count": 20,
   "metadata": {},
   "outputs": [],
   "source": [
    "## Step 3"
   ]
  },
  {
   "cell_type": "code",
   "execution_count": 21,
   "metadata": {},
   "outputs": [
    {
     "data": {
      "text/html": [
       "<div>\n",
       "<style scoped>\n",
       "    .dataframe tbody tr th:only-of-type {\n",
       "        vertical-align: middle;\n",
       "    }\n",
       "\n",
       "    .dataframe tbody tr th {\n",
       "        vertical-align: top;\n",
       "    }\n",
       "\n",
       "    .dataframe thead th {\n",
       "        text-align: right;\n",
       "    }\n",
       "</style>\n",
       "<table border=\"1\" class=\"dataframe\">\n",
       "  <thead>\n",
       "    <tr style=\"text-align: right;\">\n",
       "      <th></th>\n",
       "      <th>ID</th>\n",
       "      <th>preg_no</th>\n",
       "      <th>plasma</th>\n",
       "      <th>diastolic</th>\n",
       "      <th>triceps</th>\n",
       "      <th>serum</th>\n",
       "      <th>mass</th>\n",
       "      <th>pedigree</th>\n",
       "      <th>age</th>\n",
       "      <th>diabete</th>\n",
       "    </tr>\n",
       "  </thead>\n",
       "  <tbody>\n",
       "    <tr>\n",
       "      <th>0</th>\n",
       "      <td>1</td>\n",
       "      <td>6</td>\n",
       "      <td>148</td>\n",
       "      <td>72</td>\n",
       "      <td>35</td>\n",
       "      <td>0</td>\n",
       "      <td>33.6</td>\n",
       "      <td>0.627</td>\n",
       "      <td>50</td>\n",
       "      <td>1</td>\n",
       "    </tr>\n",
       "    <tr>\n",
       "      <th>1</th>\n",
       "      <td>2</td>\n",
       "      <td>1</td>\n",
       "      <td>85</td>\n",
       "      <td>66</td>\n",
       "      <td>29</td>\n",
       "      <td>0</td>\n",
       "      <td>26.6</td>\n",
       "      <td>0.351</td>\n",
       "      <td>31</td>\n",
       "      <td>0</td>\n",
       "    </tr>\n",
       "    <tr>\n",
       "      <th>2</th>\n",
       "      <td>3</td>\n",
       "      <td>8</td>\n",
       "      <td>183</td>\n",
       "      <td>64</td>\n",
       "      <td>0</td>\n",
       "      <td>0</td>\n",
       "      <td>23.3</td>\n",
       "      <td>0.672</td>\n",
       "      <td>32</td>\n",
       "      <td>1</td>\n",
       "    </tr>\n",
       "    <tr>\n",
       "      <th>3</th>\n",
       "      <td>4</td>\n",
       "      <td>1</td>\n",
       "      <td>89</td>\n",
       "      <td>66</td>\n",
       "      <td>23</td>\n",
       "      <td>94</td>\n",
       "      <td>28.1</td>\n",
       "      <td>0.167</td>\n",
       "      <td>21</td>\n",
       "      <td>0</td>\n",
       "    </tr>\n",
       "    <tr>\n",
       "      <th>4</th>\n",
       "      <td>5</td>\n",
       "      <td>0</td>\n",
       "      <td>137</td>\n",
       "      <td>40</td>\n",
       "      <td>35</td>\n",
       "      <td>168</td>\n",
       "      <td>43.1</td>\n",
       "      <td>2.288</td>\n",
       "      <td>33</td>\n",
       "      <td>1</td>\n",
       "    </tr>\n",
       "  </tbody>\n",
       "</table>\n",
       "</div>"
      ],
      "text/plain": [
       "   ID  preg_no  plasma  diastolic  triceps  serum  mass  pedigree  age  \\\n",
       "0   1        6     148         72       35      0  33.6     0.627   50   \n",
       "1   2        1      85         66       29      0  26.6     0.351   31   \n",
       "2   3        8     183         64        0      0  23.3     0.672   32   \n",
       "3   4        1      89         66       23     94  28.1     0.167   21   \n",
       "4   5        0     137         40       35    168  43.1     2.288   33   \n",
       "\n",
       "   diabete  \n",
       "0        1  \n",
       "1        0  \n",
       "2        1  \n",
       "3        0  \n",
       "4        1  "
      ]
     },
     "execution_count": 21,
     "metadata": {},
     "output_type": "execute_result"
    }
   ],
   "source": [
    "import pandas as pd\n",
    "file = '~/Downloads/pima-indians-diabetes.csv' \n",
    "dataframe = pd.read_csv(file) \n",
    "dataframe.head()"
   ]
  },
  {
   "cell_type": "code",
   "execution_count": 22,
   "metadata": {},
   "outputs": [
    {
     "data": {
      "text/html": [
       "<div>\n",
       "<style scoped>\n",
       "    .dataframe tbody tr th:only-of-type {\n",
       "        vertical-align: middle;\n",
       "    }\n",
       "\n",
       "    .dataframe tbody tr th {\n",
       "        vertical-align: top;\n",
       "    }\n",
       "\n",
       "    .dataframe thead th {\n",
       "        text-align: right;\n",
       "    }\n",
       "</style>\n",
       "<table border=\"1\" class=\"dataframe\">\n",
       "  <thead>\n",
       "    <tr style=\"text-align: right;\">\n",
       "      <th></th>\n",
       "      <th>ID</th>\n",
       "      <th>preg_no</th>\n",
       "      <th>plasma</th>\n",
       "      <th>diastolic</th>\n",
       "      <th>triceps</th>\n",
       "      <th>serum</th>\n",
       "      <th>mass</th>\n",
       "      <th>pedigree</th>\n",
       "      <th>age</th>\n",
       "      <th>diabete</th>\n",
       "    </tr>\n",
       "  </thead>\n",
       "  <tbody>\n",
       "    <tr>\n",
       "      <th>count</th>\n",
       "      <td>768.000000</td>\n",
       "      <td>768.000000</td>\n",
       "      <td>768.000000</td>\n",
       "      <td>768.000000</td>\n",
       "      <td>768.000000</td>\n",
       "      <td>768.000000</td>\n",
       "      <td>768.000000</td>\n",
       "      <td>768.000000</td>\n",
       "      <td>768.000000</td>\n",
       "      <td>768.000000</td>\n",
       "    </tr>\n",
       "    <tr>\n",
       "      <th>mean</th>\n",
       "      <td>384.500000</td>\n",
       "      <td>3.845052</td>\n",
       "      <td>120.894531</td>\n",
       "      <td>69.105469</td>\n",
       "      <td>20.536458</td>\n",
       "      <td>79.799479</td>\n",
       "      <td>31.992578</td>\n",
       "      <td>0.471876</td>\n",
       "      <td>33.240885</td>\n",
       "      <td>0.348958</td>\n",
       "    </tr>\n",
       "    <tr>\n",
       "      <th>std</th>\n",
       "      <td>221.846794</td>\n",
       "      <td>3.369578</td>\n",
       "      <td>31.972618</td>\n",
       "      <td>19.355807</td>\n",
       "      <td>15.952218</td>\n",
       "      <td>115.244002</td>\n",
       "      <td>7.884160</td>\n",
       "      <td>0.331329</td>\n",
       "      <td>11.760232</td>\n",
       "      <td>0.476951</td>\n",
       "    </tr>\n",
       "    <tr>\n",
       "      <th>min</th>\n",
       "      <td>1.000000</td>\n",
       "      <td>0.000000</td>\n",
       "      <td>0.000000</td>\n",
       "      <td>0.000000</td>\n",
       "      <td>0.000000</td>\n",
       "      <td>0.000000</td>\n",
       "      <td>0.000000</td>\n",
       "      <td>0.078000</td>\n",
       "      <td>21.000000</td>\n",
       "      <td>0.000000</td>\n",
       "    </tr>\n",
       "    <tr>\n",
       "      <th>25%</th>\n",
       "      <td>192.750000</td>\n",
       "      <td>1.000000</td>\n",
       "      <td>99.000000</td>\n",
       "      <td>62.000000</td>\n",
       "      <td>0.000000</td>\n",
       "      <td>0.000000</td>\n",
       "      <td>27.300000</td>\n",
       "      <td>0.243750</td>\n",
       "      <td>24.000000</td>\n",
       "      <td>0.000000</td>\n",
       "    </tr>\n",
       "    <tr>\n",
       "      <th>50%</th>\n",
       "      <td>384.500000</td>\n",
       "      <td>3.000000</td>\n",
       "      <td>117.000000</td>\n",
       "      <td>72.000000</td>\n",
       "      <td>23.000000</td>\n",
       "      <td>30.500000</td>\n",
       "      <td>32.000000</td>\n",
       "      <td>0.372500</td>\n",
       "      <td>29.000000</td>\n",
       "      <td>0.000000</td>\n",
       "    </tr>\n",
       "    <tr>\n",
       "      <th>75%</th>\n",
       "      <td>576.250000</td>\n",
       "      <td>6.000000</td>\n",
       "      <td>140.250000</td>\n",
       "      <td>80.000000</td>\n",
       "      <td>32.000000</td>\n",
       "      <td>127.250000</td>\n",
       "      <td>36.600000</td>\n",
       "      <td>0.626250</td>\n",
       "      <td>41.000000</td>\n",
       "      <td>1.000000</td>\n",
       "    </tr>\n",
       "    <tr>\n",
       "      <th>max</th>\n",
       "      <td>768.000000</td>\n",
       "      <td>17.000000</td>\n",
       "      <td>199.000000</td>\n",
       "      <td>122.000000</td>\n",
       "      <td>99.000000</td>\n",
       "      <td>846.000000</td>\n",
       "      <td>67.100000</td>\n",
       "      <td>2.420000</td>\n",
       "      <td>81.000000</td>\n",
       "      <td>1.000000</td>\n",
       "    </tr>\n",
       "  </tbody>\n",
       "</table>\n",
       "</div>"
      ],
      "text/plain": [
       "               ID     preg_no      plasma   diastolic     triceps       serum  \\\n",
       "count  768.000000  768.000000  768.000000  768.000000  768.000000  768.000000   \n",
       "mean   384.500000    3.845052  120.894531   69.105469   20.536458   79.799479   \n",
       "std    221.846794    3.369578   31.972618   19.355807   15.952218  115.244002   \n",
       "min      1.000000    0.000000    0.000000    0.000000    0.000000    0.000000   \n",
       "25%    192.750000    1.000000   99.000000   62.000000    0.000000    0.000000   \n",
       "50%    384.500000    3.000000  117.000000   72.000000   23.000000   30.500000   \n",
       "75%    576.250000    6.000000  140.250000   80.000000   32.000000  127.250000   \n",
       "max    768.000000   17.000000  199.000000  122.000000   99.000000  846.000000   \n",
       "\n",
       "             mass    pedigree         age     diabete  \n",
       "count  768.000000  768.000000  768.000000  768.000000  \n",
       "mean    31.992578    0.471876   33.240885    0.348958  \n",
       "std      7.884160    0.331329   11.760232    0.476951  \n",
       "min      0.000000    0.078000   21.000000    0.000000  \n",
       "25%     27.300000    0.243750   24.000000    0.000000  \n",
       "50%     32.000000    0.372500   29.000000    0.000000  \n",
       "75%     36.600000    0.626250   41.000000    1.000000  \n",
       "max     67.100000    2.420000   81.000000    1.000000  "
      ]
     },
     "execution_count": 22,
     "metadata": {},
     "output_type": "execute_result"
    }
   ],
   "source": [
    "dataframe.describe()"
   ]
  },
  {
   "cell_type": "code",
   "execution_count": 23,
   "metadata": {},
   "outputs": [],
   "source": [
    "from sklearn.model_selection import train_test_split "
   ]
  },
  {
   "cell_type": "code",
   "execution_count": 24,
   "metadata": {},
   "outputs": [],
   "source": [
    "df = dataframe.copy()"
   ]
  },
  {
   "cell_type": "code",
   "execution_count": 25,
   "metadata": {},
   "outputs": [],
   "source": [
    "Y = dataframe['diabete'] \n",
    "X = dataframe.drop(['ID','diabete'], axis=1)\n",
    "#df_features.replace('?', -99999, inplace=True)\n"
   ]
  },
  {
   "cell_type": "code",
   "execution_count": 26,
   "metadata": {},
   "outputs": [],
   "source": [
    "x_train, x_test, y_train, y_test = train_test_split(X, Y, test_size=0.2, random_state=42)\n",
    "from sklearn.preprocessing import StandardScaler\n",
    "import numpy as np\n",
    "normalizer = StandardScaler()\n",
    "x_train = normalizer.fit_transform(x_train)\n",
    "x_test = normalizer.transform(x_test)\n",
    "\n",
    "x_train = np.asarray(x_train)\n",
    "x_test = np.asarray(x_test)\n",
    "y_train = np.asarray(y_train)\n",
    "y_test = np.asarray(y_test)"
   ]
  },
  {
   "cell_type": "code",
   "execution_count": 27,
   "metadata": {},
   "outputs": [
    {
     "name": "stdout",
     "output_type": "stream",
     "text": [
      "Train on 614 samples, validate on 154 samples\n",
      "Epoch 1/10\n",
      "614/614 [==============================] - 2s 3ms/sample - loss: 0.2051 - accuracy: 0.7085 - val_loss: 0.1825 - val_accuracy: 0.7403\n",
      "Epoch 2/10\n",
      "614/614 [==============================] - 0s 325us/sample - loss: 0.1588 - accuracy: 0.7687 - val_loss: 0.1639 - val_accuracy: 0.7662\n",
      "Epoch 3/10\n",
      "614/614 [==============================] - 0s 309us/sample - loss: 0.1464 - accuracy: 0.7818 - val_loss: 0.1631 - val_accuracy: 0.7727\n",
      "Epoch 4/10\n",
      "614/614 [==============================] - 0s 316us/sample - loss: 0.1401 - accuracy: 0.7932 - val_loss: 0.1680 - val_accuracy: 0.7662\n",
      "Epoch 5/10\n",
      "614/614 [==============================] - 0s 323us/sample - loss: 0.1377 - accuracy: 0.7964 - val_loss: 0.1711 - val_accuracy: 0.7597\n",
      "Epoch 6/10\n",
      "614/614 [==============================] - 0s 314us/sample - loss: 0.1353 - accuracy: 0.7964 - val_loss: 0.1711 - val_accuracy: 0.7532\n",
      "Epoch 7/10\n",
      "614/614 [==============================] - 0s 319us/sample - loss: 0.1329 - accuracy: 0.8013 - val_loss: 0.1747 - val_accuracy: 0.7597\n",
      "Epoch 8/10\n",
      "614/614 [==============================] - 0s 314us/sample - loss: 0.1309 - accuracy: 0.8127 - val_loss: 0.1705 - val_accuracy: 0.7727\n",
      "Epoch 9/10\n",
      "614/614 [==============================] - 0s 369us/sample - loss: 0.1294 - accuracy: 0.8078 - val_loss: 0.1707 - val_accuracy: 0.7727\n",
      "Epoch 10/10\n",
      "614/614 [==============================] - 0s 308us/sample - loss: 0.1275 - accuracy: 0.8176 - val_loss: 0.1709 - val_accuracy: 0.7727\n"
     ]
    },
    {
     "data": {
      "text/plain": [
       "<tensorflow.python.keras.callbacks.History at 0x64789f4a8>"
      ]
     },
     "execution_count": 27,
     "metadata": {},
     "output_type": "execute_result"
    }
   ],
   "source": [
    "model = tf.keras.models.Sequential([ \n",
    "    tf.keras.layers.Dense(500, input_shape=(8,), activation=\"relu\"),\n",
    "    tf.keras.layers.Dense(100, activation='relu'),\n",
    "    tf.keras.layers.Dense(1, activation='sigmoid') ])\n",
    "    \n",
    "model.compile(loss='mean_squared_error', optimizer='adam', metrics=['accuracy'])\n",
    "model.fit(x_train,y_train, epochs=10, batch_size=70, validation_data=(x_test, y_test))\n"
   ]
  },
  {
   "cell_type": "markdown",
   "metadata": {},
   "source": [
    "## Q5- Design a neural network with 2 hidden layers (hidden layer 1 with 12 nodes and hidden layer 2 with 8 nodes)\n",
    "## report the accuracy and draw the learning curves. \n",
    "## Apply a dropout to see if you could get any better result. Use ‘adam’ as optimizer."
   ]
  },
  {
   "cell_type": "code",
   "execution_count": 28,
   "metadata": {},
   "outputs": [
    {
     "name": "stdout",
     "output_type": "stream",
     "text": [
      "Train on 614 samples, validate on 154 samples\n",
      "Epoch 1/10\n",
      "614/614 [==============================] - 2s 3ms/sample - loss: 0.3377 - accuracy: 0.3811 - val_loss: 0.3137 - val_accuracy: 0.3247\n",
      "Epoch 2/10\n",
      "614/614 [==============================] - 0s 295us/sample - loss: 0.3042 - accuracy: 0.4169 - val_loss: 0.2929 - val_accuracy: 0.3182\n",
      "Epoch 3/10\n",
      "614/614 [==============================] - 0s 248us/sample - loss: 0.2961 - accuracy: 0.3974 - val_loss: 0.2757 - val_accuracy: 0.3571\n",
      "Epoch 4/10\n",
      "614/614 [==============================] - 0s 247us/sample - loss: 0.2756 - accuracy: 0.4202 - val_loss: 0.2613 - val_accuracy: 0.3831\n",
      "Epoch 5/10\n",
      "614/614 [==============================] - 0s 273us/sample - loss: 0.2635 - accuracy: 0.4984 - val_loss: 0.2500 - val_accuracy: 0.5390\n",
      "Epoch 6/10\n",
      "614/614 [==============================] - 0s 369us/sample - loss: 0.2538 - accuracy: 0.5342 - val_loss: 0.2416 - val_accuracy: 0.6429\n",
      "Epoch 7/10\n",
      "614/614 [==============================] - 0s 285us/sample - loss: 0.2440 - accuracy: 0.5847 - val_loss: 0.2355 - val_accuracy: 0.6623\n",
      "Epoch 8/10\n",
      "614/614 [==============================] - 0s 514us/sample - loss: 0.2382 - accuracy: 0.5993 - val_loss: 0.2308 - val_accuracy: 0.6688\n",
      "Epoch 9/10\n",
      "614/614 [==============================] - 0s 576us/sample - loss: 0.2316 - accuracy: 0.6205 - val_loss: 0.2273 - val_accuracy: 0.6558\n",
      "Epoch 10/10\n",
      "614/614 [==============================] - 0s 412us/sample - loss: 0.2341 - accuracy: 0.6010 - val_loss: 0.2247 - val_accuracy: 0.6494\n",
      "Train on 614 samples, validate on 154 samples\n",
      "Epoch 1/10\n",
      "614/614 [==============================] - 0s 536us/sample - loss: 0.2333 - accuracy: 0.5717 - val_loss: 0.2227 - val_accuracy: 0.6494\n",
      "Epoch 2/10\n",
      "614/614 [==============================] - 0s 365us/sample - loss: 0.2256 - accuracy: 0.6059 - val_loss: 0.2209 - val_accuracy: 0.6494\n",
      "Epoch 3/10\n",
      "614/614 [==============================] - 0s 280us/sample - loss: 0.2241 - accuracy: 0.6156 - val_loss: 0.2192 - val_accuracy: 0.6494\n",
      "Epoch 4/10\n",
      "614/614 [==============================] - 0s 250us/sample - loss: 0.2219 - accuracy: 0.6026 - val_loss: 0.2176 - val_accuracy: 0.6494\n",
      "Epoch 5/10\n",
      "614/614 [==============================] - 0s 287us/sample - loss: 0.2205 - accuracy: 0.6156 - val_loss: 0.2162 - val_accuracy: 0.6494\n",
      "Epoch 6/10\n",
      "614/614 [==============================] - 0s 295us/sample - loss: 0.2172 - accuracy: 0.6107 - val_loss: 0.2148 - val_accuracy: 0.6494\n",
      "Epoch 7/10\n",
      "614/614 [==============================] - 0s 291us/sample - loss: 0.2129 - accuracy: 0.6287 - val_loss: 0.2136 - val_accuracy: 0.6494\n",
      "Epoch 8/10\n",
      "614/614 [==============================] - 0s 302us/sample - loss: 0.2175 - accuracy: 0.6156 - val_loss: 0.2123 - val_accuracy: 0.6494\n",
      "Epoch 9/10\n",
      "614/614 [==============================] - 0s 314us/sample - loss: 0.2164 - accuracy: 0.6221 - val_loss: 0.2110 - val_accuracy: 0.6558\n",
      "Epoch 10/10\n",
      "614/614 [==============================] - 0s 264us/sample - loss: 0.2160 - accuracy: 0.6059 - val_loss: 0.2099 - val_accuracy: 0.6558\n"
     ]
    }
   ],
   "source": [
    "model = tf.keras.models.Sequential([ \n",
    "    tf.keras.layers.Dense(12, input_shape=(8,), activation=\"sigmoid\"),\n",
    "    tf.keras.layers.Dense(8, activation='relu'),\n",
    "    tf.keras.layers.Dropout(0.2), \n",
    "    tf.keras.layers.Dense(1, activation='sigmoid') ])\n",
    "    \n",
    "model.compile(loss='mean_squared_error', optimizer='adam', metrics=['accuracy'])\n",
    "model.fit(x_train,y_train, epochs=10, batch_size=70, validation_data=(x_test, y_test))\n",
    "hist = model.fit(x_train,y_train, epochs=10, batch_size=70, validation_data=(x_test, y_test))"
   ]
  },
  {
   "cell_type": "code",
   "execution_count": 29,
   "metadata": {},
   "outputs": [
    {
     "data": {
      "image/png": "[encoded data removed]",
      "text/plain": [
       "<Figure size 432x288 with 2 Axes>"
      ]
     },
     "metadata": {
      "needs_background": "light"
     },
     "output_type": "display_data"
    }
   ],
   "source": [
    "plt.subplot(2,1,1) \n",
    "plt.plot(hist.history['accuracy']) \n",
    "plt.plot(hist.history['val_accuracy']) \n",
    "plt.title('model accuracy') \n",
    "plt.ylabel('accuracy') \n",
    "plt.xlabel('epoch') \n",
    "plt.legend(['train', 'test'], loc='lower right') \n",
    "plt.subplot(2,1,2) \n",
    "plt.plot(hist.history['loss']) \n",
    "plt.plot(hist.history['val_loss']) \n",
    "plt.title('model loss') \n",
    "plt.ylabel('loss') \n",
    "plt.xlabel('epoch') \n",
    "plt.legend(['train', 'test'], loc='upper right') \n",
    "plt.show()"
   ]
  },
  {
   "cell_type": "code",
   "execution_count": null,
   "metadata": {},
   "outputs": [],
   "source": []
  }
 ],
 "metadata": {
  "kernelspec": {
   "display_name": "Python 3",
   "language": "python",
   "name": "python3"
  },
  "language_info": {
   "codemirror_mode": {
    "name": "ipython",
    "version": 3
   },
   "file_extension": ".py",
   "mimetype": "text/x-python",
   "name": "python",
   "nbconvert_exporter": "python",
   "pygments_lexer": "ipython3",
   "version": "3.7.3"
  }
 },
 "nbformat": 4,
 "nbformat_minor": 4
}
